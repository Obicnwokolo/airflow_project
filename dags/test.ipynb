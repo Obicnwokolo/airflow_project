{
 "cells": [
  {
   "cell_type": "code",
   "execution_count": 30,
   "metadata": {},
   "outputs": [],
   "source": [
    "from datetime import datetime\n",
    "from datetime import timedelta\n",
    "from airflow import DAG\n",
    "from airflow.operators.python import PythonOperator\n",
    "from airflow.utils.dates import days_ago\n",
    "import logging\n",
    "import pandas as pd"
   ]
  },
  {
   "cell_type": "code",
   "execution_count": 42,
   "metadata": {},
   "outputs": [],
   "source": [
    "def run_get_data():\n",
    "    import requests\n",
    "    \n",
    "    url = 'https://api.worldbank.org/v2/country/br?format=json'\n",
    "    header ={\"Content-Type\":\"application/json\",\n",
    "            \"Accept-Encoding\":\"deflate\"}\n",
    "    response = requests.get(url,headers=header)\n",
    "    print(response)\n",
    "    responseData = response.json()\n",
    "    responseData = responseData[1]\n",
    "    #print(responseData)\n",
    "        \n",
    "    refined_responseData = []\n",
    "    for item in responseData:\n",
    "        refined_responseData.append({\n",
    "            'id': item['id'],\n",
    "            'iso2Code': item['iso2Code'],\n",
    "            'name': item['name'],\n",
    "            'region': item['region']['value'],\n",
    "            'adminregion': item['adminregion']['value'],\n",
    "            'incomeLevel': item['incomeLevel']['value'],\n",
    "            'lendingType': item['lendingType']['value'],\n",
    "            'capitalCity': item['capitalCity'],\n",
    "            'longitude': item['longitude'],\n",
    "            'latitude': item['latitude']\n",
    "        })\n",
    "    df = pd.DataFrame(refined_responseData)\n",
    "    return df\n"
   ]
  },
  {
   "cell_type": "code",
   "execution_count": 43,
   "metadata": {},
   "outputs": [
    {
     "name": "stdout",
     "output_type": "stream",
     "text": [
      "<Response [200]>\n"
     ]
    },
    {
     "data": {
      "text/html": [
       "<div>\n",
       "<style scoped>\n",
       "    .dataframe tbody tr th:only-of-type {\n",
       "        vertical-align: middle;\n",
       "    }\n",
       "\n",
       "    .dataframe tbody tr th {\n",
       "        vertical-align: top;\n",
       "    }\n",
       "\n",
       "    .dataframe thead th {\n",
       "        text-align: right;\n",
       "    }\n",
       "</style>\n",
       "<table border=\"1\" class=\"dataframe\">\n",
       "  <thead>\n",
       "    <tr style=\"text-align: right;\">\n",
       "      <th></th>\n",
       "      <th>id</th>\n",
       "      <th>iso2Code</th>\n",
       "      <th>name</th>\n",
       "      <th>region</th>\n",
       "      <th>adminregion</th>\n",
       "      <th>incomeLevel</th>\n",
       "      <th>lendingType</th>\n",
       "      <th>capitalCity</th>\n",
       "      <th>longitude</th>\n",
       "      <th>latitude</th>\n",
       "    </tr>\n",
       "  </thead>\n",
       "  <tbody>\n",
       "    <tr>\n",
       "      <th>0</th>\n",
       "      <td>BRA</td>\n",
       "      <td>BR</td>\n",
       "      <td>Brazil</td>\n",
       "      <td>Latin America &amp; Caribbean</td>\n",
       "      <td>Latin America &amp; Caribbean (excluding high income)</td>\n",
       "      <td>Upper middle income</td>\n",
       "      <td>IBRD</td>\n",
       "      <td>Brasilia</td>\n",
       "      <td>-47.9292</td>\n",
       "      <td>-15.7801</td>\n",
       "    </tr>\n",
       "  </tbody>\n",
       "</table>\n",
       "</div>"
      ],
      "text/plain": [
       "    id iso2Code    name                      region  \\\n",
       "0  BRA       BR  Brazil  Latin America & Caribbean    \n",
       "\n",
       "                                         adminregion          incomeLevel  \\\n",
       "0  Latin America & Caribbean (excluding high income)  Upper middle income   \n",
       "\n",
       "  lendingType capitalCity longitude  latitude  \n",
       "0        IBRD    Brasilia  -47.9292  -15.7801  "
      ]
     },
     "execution_count": 43,
     "metadata": {},
     "output_type": "execute_result"
    }
   ],
   "source": [
    "run_get_data()"
   ]
  }
 ],
 "metadata": {
  "kernelspec": {
   "display_name": "Python 3",
   "language": "python",
   "name": "python3"
  },
  "language_info": {
   "codemirror_mode": {
    "name": "ipython",
    "version": 3
   },
   "file_extension": ".py",
   "mimetype": "text/x-python",
   "name": "python",
   "nbconvert_exporter": "python",
   "pygments_lexer": "ipython3",
   "version": "3.12.8"
  }
 },
 "nbformat": 4,
 "nbformat_minor": 2
}
